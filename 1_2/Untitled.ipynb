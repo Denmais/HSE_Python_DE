{
 "cells": [
  {
   "cell_type": "code",
   "execution_count": 11,
   "id": "a471b76a",
   "metadata": {},
   "outputs": [
    {
     "name": "stdout",
     "output_type": "stream",
     "text": [
      "The Moscow Times - Wednesday, October 2, 2002\n",
      "2002-10-02\n",
      "The Guardian - Friday, 11.10.13\n",
      "2013-10-11\n",
      "Daily News - Thursday, 18 August 1977\n",
      "1977-08-18\n"
     ]
    }
   ],
   "source": [
    "import datetime\n",
    "\n",
    "def func(a):\n",
    "    a = a.split(' - ')\n",
    "    if a[0] == 'The Moscow Times':\n",
    "        return datetime.datetime.strptime(a[-1], '%A, %B %d, %Y').date()\n",
    "    elif a[0] == 'The Guardian':\n",
    "        return datetime.datetime.strptime(a[-1], '%A, %d.%m.%y').date()\n",
    "    elif a[0] == 'Daily News':\n",
    "        return datetime.datetime.strptime(a[-1], '%A, %d %B %Y').date()\n",
    "    else:\n",
    "        return 'Error'\n",
    "\n",
    "print('The Moscow Times - Wednesday, October 2, 2002')\n",
    "print(func('The Moscow Times - Wednesday, October 2, 2002'))\n",
    "\n",
    "print('The Guardian - Friday, 11.10.13')\n",
    "print(func('The Guardian - Friday, 11.10.13'))\n",
    "\n",
    "print('Daily News - Thursday, 18 August 1977')\n",
    "print(func('Daily News - Thursday, 18 August 1977'))\n",
    "    "
   ]
  },
  {
   "cell_type": "code",
   "execution_count": 15,
   "id": "177aca01",
   "metadata": {},
   "outputs": [
    {
     "name": "stdout",
     "output_type": "stream",
     "text": [
      "2022-01-01\n",
      "2022-01-01\n",
      "['2022-01-01']\n"
     ]
    }
   ],
   "source": [
    "def date_range(a, b):\n",
    "    ls = []\n",
    "\n",
    "    try:\n",
    "        a = datetime.datetime.strptime(a, '%Y-%m-%d')\n",
    "        b = datetime.datetime.strptime(b, '%Y-%m-%d')\n",
    "    except ValueError as e:\n",
    "        return []\n",
    "    \n",
    "    if a > b:\n",
    "        return []\n",
    "    \n",
    "    while a <= b:\n",
    "        ls.append(a.strftime('%Y-%m-%d'))\n",
    "        a += datetime.timedelta(days=1)\n",
    "    \n",
    "    return ls\n",
    "\n",
    "\n",
    "\n",
    "a = input()\n",
    "b = input()\n",
    "\n",
    "print(date_range(a,b))"
   ]
  },
  {
   "cell_type": "code",
   "execution_count": null,
   "id": "4555ffe6",
   "metadata": {},
   "outputs": [],
   "source": []
  },
  {
   "cell_type": "code",
   "execution_count": null,
   "id": "e7958fb8",
   "metadata": {},
   "outputs": [],
   "source": []
  }
 ],
 "metadata": {
  "kernelspec": {
   "display_name": "Python 3 (ipykernel)",
   "language": "python",
   "name": "python3"
  },
  "language_info": {
   "codemirror_mode": {
    "name": "ipython",
    "version": 3
   },
   "file_extension": ".py",
   "mimetype": "text/x-python",
   "name": "python",
   "nbconvert_exporter": "python",
   "pygments_lexer": "ipython3",
   "version": "3.10.12"
  }
 },
 "nbformat": 4,
 "nbformat_minor": 5
}

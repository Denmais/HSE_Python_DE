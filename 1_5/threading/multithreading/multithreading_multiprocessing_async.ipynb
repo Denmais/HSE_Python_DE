{
 "cells": [
  {
   "cell_type": "markdown",
   "metadata": {
    "id": "inA2Q8YwksRn"
   },
   "source": [
    "# Вебинар 7. Лучшие практики по работе с параллельными вычислениями в Python"
   ]
  },
  {
   "cell_type": "markdown",
   "metadata": {
    "id": "pbcH57-MksRr",
    "tags": []
   },
   "source": [
    "## Проверка связи"
   ]
  },
  {
   "cell_type": "markdown",
   "metadata": {
    "id": "xINEc2zFksRr"
   },
   "source": [
    "**Если у вас нет звука:**\n",
    "- убедитесь, что на вашем устройстве\n",
    "и в колонках включён звук\n",
    "- обновите страницу или закройте её и заново присоединитесь к вебинару\n",
    "- откройте вебинар в другом браузере\n",
    "- перезагрузите ваше устройство\n",
    "и  попытайтесь войти снова\n"
   ]
  },
  {
   "cell_type": "markdown",
   "metadata": {
    "id": "aq_cAJwVksRs"
   },
   "source": [
    "**Поставьте в чат:**<br>\n",
    "\\+ — если меня видно и слышно<br>\n",
    "– — если нет"
   ]
  },
  {
   "cell_type": "markdown",
   "metadata": {
    "id": "lGmyF92MksRs"
   },
   "source": [
    "## О спикере"
   ]
  },
  {
   "cell_type": "markdown",
   "metadata": {
    "id": "IQ5tPuttksRt",
    "tags": []
   },
   "source": [
    "**Дмитрий Клабуков**\n",
    "- Старший инженер данных в Альфа-банке\n",
    "- Опыт разработки с 2018 года"
   ]
  },
  {
   "cell_type": "markdown",
   "metadata": {
    "id": "jeTexD3tksRt"
   },
   "source": [
    "## Правила участия"
   ]
  },
  {
   "cell_type": "markdown",
   "metadata": {
    "id": "2kvQyqS9ksRt",
    "tags": []
   },
   "source": [
    "- Приготовьте блокнот и ручку, чтобы записывать важные мысли и идеи\n",
    "- Продолжительность вебинара — 1 час 30 минут\n",
    "- Вы можете писать вопросы в чате или задавать их через микрофон\n",
    "- Запись вебинара будет доступна в личном кабинете"
   ]
  },
  {
   "cell_type": "code",
   "execution_count": null,
   "metadata": {
    "id": "iNHztg8WxN3k"
   },
   "outputs": [],
   "source": []
  },
  {
   "cell_type": "markdown",
   "metadata": {},
   "source": []
  },
  {
   "cell_type": "markdown",
   "metadata": {
    "id": "XS64DD3RksRu"
   },
   "source": [
    "- Отработали на практике работу с многопрограммным комплексом"
   ]
  },
  {
   "cell_type": "markdown",
   "metadata": {
    "id": "JFQrFju9ksRu"
   },
   "source": [
    "## Цель занятия"
   ]
  },
  {
   "cell_type": "markdown",
   "metadata": {
    "id": "p8Pbfc0eksRv",
    "tags": []
   },
   "source": [
    "Расширить знания по практике использования параллельных технологий"
   ]
  },
  {
   "cell_type": "markdown",
   "metadata": {
    "id": "y0L-W3AYksRv"
   },
   "source": [
    "## План занятия"
   ]
  },
  {
   "cell_type": "markdown",
   "metadata": {
    "id": "nUBc6G7rksRv"
   },
   "source": [
    "\n",
    "[1. Последовательное выполнение](#1.-ПОСЛЕДОВАТЕЛЬНОЕ-ВЫПОЛНЕНИЕ)<br>\n",
    "[2. Потоки](#2.-ПОТОКИ)<br>\n",
    "[3. Процессы](#3.-ПРОЦЕССЫ)<br>\n"
   ]
  },
  {
   "cell_type": "markdown",
   "metadata": {},
   "source": [
    "Фаулер - Конкурентное программирование на Python"
   ]
  },
  {
   "cell_type": "markdown",
   "metadata": {},
   "source": [
    "## Задачи, ограниченные вводом - выводом (I/O bound)  и задачи, ограниченные быстродействием процессора( CPU Bound задачи)\n",
    "\n",
    "К задачам, ограниченным вводом-выводом относятся те задачи, в которых в которых большая часть времени тратится на ожидание ответа от сети или другого устройства.\n",
    "\n",
    "К задачам, ограниченным быстродействием процессора или счетным задачам относят те задачи, в которых проходят вычисления или обработка данных."
   ]
  },
  {
   "cell_type": "markdown",
   "metadata": {},
   "source": [
    "## Конкурентность и параллелизм\n",
    "\n",
    "Конкурентность - свойство системы по которому, выполнение задач, выполняющихся в одно и то же время, может переключаться от одной к другой в зависимости от их доступности к выполнению. Конкурентность возможна, когда несколько задач может работать не-\n",
    "зависимо друг от друга.\n",
    "\n",
    "Параллелизм - возможность выполнять задачи одновременно."
   ]
  },
  {
   "cell_type": "markdown",
   "metadata": {},
   "source": [
    "Конкурентность бывает вытесняющая или невытесняющая (кооперативная)\n",
    "\n",
    "Вытесняющая конкурентность  - та, в которая система сама решает, какой задаче отдать управление засчет квантования времени\n",
    "\n",
    "Кооперативная - та, в которой явно указано в коде в какой момент можно отдать управление другим задачам\n"
   ]
  },
  {
   "cell_type": "markdown",
   "metadata": {},
   "source": [
    "## Процессы, потоки, многопроцессность, многопоточность\n",
    "\n",
    "Процессом называется работающее приложение, которому выделена\n",
    "область памяти, недоступная другим приложениям. \n",
    "\n",
    "Поток - это базовая единица ОС, которой выделяется процессорное время. Поток живет внутри процесса и использует выделенную под процесс память.\n"
   ]
  },
  {
   "cell_type": "code",
   "execution_count": null,
   "metadata": {},
   "outputs": [],
   "source": [
    "import os\n",
    "import threading\n",
    "print(f'Исполняется Python-процесс с идентификатором: {os.getpid()}')\n",
    "total_threads = threading.active_count()\n",
    "thread_name = threading.current_thread().name\n",
    "\n",
    "print(f'В данный момент Python исполняет {total_threads} поток(ов)')\n",
    "print(f'Имя текущего потока {thread_name}')"
   ]
  },
  {
   "cell_type": "code",
   "execution_count": null,
   "metadata": {},
   "outputs": [],
   "source": [
    "import threading\n",
    "\n",
    "print([i.name for i in threading.enumerate()])"
   ]
  },
  {
   "cell_type": "markdown",
   "metadata": {},
   "source": [
    "## GIL\n",
    "\n",
    "Глобальная блокировка интерпретатора (global interpreter lock – GIL) - механизм Python, не позволяющий выполнять Python процессу в конкретный момент времени несколько команд кода"
   ]
  },
  {
   "cell_type": "markdown",
   "metadata": {},
   "source": [
    "## 1. Последовательное выполнение"
   ]
  },
  {
   "cell_type": "code",
   "execution_count": null,
   "metadata": {},
   "outputs": [],
   "source": [
    "from time import time\n",
    "def fact(n: int):\n",
    "    if n == 1:\n",
    "        return 1\n",
    "    else:\n",
    "        return n * fact(n-1)\n",
    "        \n",
    "def some_activity():\n",
    "    t0 = time()\n",
    "    for x in range(1_000_000):\n",
    "        x - (x ** 3/fact(3)) + (x ** 5 / fact(5)) - (x ** 7 / fact(7)) + (x ** 9 / fact(9)) - (x ** 11 / fact(11))\n",
    "\n",
    "\n",
    "t0 = time()\n",
    "for _ in range(10):\n",
    "    some_activity()\n",
    "print(time() - t0)"
   ]
  },
  {
   "cell_type": "code",
   "execution_count": null,
   "metadata": {},
   "outputs": [],
   "source": [
    "import threading\n",
    "def hello_from_thread():\n",
    "    print(f'Привет от потока {threading.current_thread()}!')\n",
    "    \n",
    "hello_thread = threading.Thread(target=hello_from_thread)\n",
    "hello_thread.start()\n",
    "total_threads = threading.active_count()\n",
    "thread_name = threading.current_thread().name\n",
    "print(f'В данный момент Python выполняет {total_threads} поток(ов)')\n",
    "print(f'Имя текущего потока {thread_name}')\n",
    "hello_thread.join()"
   ]
  },
  {
   "cell_type": "code",
   "execution_count": null,
   "metadata": {},
   "outputs": [],
   "source": [
    "import threading\n",
    "from time import time \n",
    "\n",
    "def threaded_activity(n_threads: int) -> float:\n",
    "    t0 = time()\n",
    "    threads = [threading.Thread(target=some_activity) for _ in range(n_threads)]\n",
    "    for t in threads:\n",
    "        t.start()\n",
    "    for t in threads:\n",
    "        t.join()\n",
    "    return time() - t0\n",
    "\n",
    "threaded_activity(10)"
   ]
  },
  {
   "cell_type": "code",
   "execution_count": null,
   "metadata": {},
   "outputs": [],
   "source": [
    "import requests\n",
    "\n",
    "def some_network_activity():\n",
    "    requests.get('https://ya.ru')\n",
    "\n",
    "t0 = time()\n",
    "for _ in range(10):\n",
    "    some_network_activity()\n",
    "print(time() - t0)"
   ]
  },
  {
   "cell_type": "code",
   "execution_count": null,
   "metadata": {},
   "outputs": [],
   "source": [
    "from threading import Thread\n",
    "from time import time \n",
    "\n",
    "def threaded_activity(n_threads: int) -> float:\n",
    "    t0 = time()\n",
    "    threads = [Thread(target=some_network_activity) for _ in range(n_threads)]\n",
    "    for t in threads:\n",
    "        t.start()\n",
    "    for t in threads:\n",
    "        t.join()\n",
    "    return time() - t0\n",
    "\n",
    "threaded_activity(10)"
   ]
  },
  {
   "cell_type": "code",
   "execution_count": null,
   "metadata": {},
   "outputs": [],
   "source": [
    "import multiprocessing\n",
    "import os\n",
    "def hello_from_process():\n",
    "    print(f'Привет от дочернего процесса {os.getpid()}!')\n",
    "\n",
    "if __name__ == '__main__':\n",
    "    hello_process = multiprocessing.Process(target=hello_from_process)\n",
    "\n",
    "    hello_process.start()\n",
    "    print(f'Привет от родительского процесса {os.getpid()}')\n",
    "    hello_process.join()"
   ]
  },
  {
   "cell_type": "code",
   "execution_count": null,
   "metadata": {},
   "outputs": [],
   "source": [
    "from multiprocessing import Process, Pool\n",
    "\n",
    "def processed_activity(n_processes: int) -> float:\n",
    "    t0 = time()\n",
    "    processes = [Process(target=some_network_activity) for _ in range(n_processes)]\n",
    "    for t in processes:\n",
    "        t.start()\n",
    "    for t in processes:\n",
    "        t.join()\n",
    "    return time() - t0\n",
    "\n",
    "threaded_activity(10)"
   ]
  },
  {
   "cell_type": "markdown",
   "metadata": {
    "id": "CxE3zVrXksRv"
   },
   "source": [
    "## 1. Последовательное выполнение"
   ]
  },
  {
   "cell_type": "markdown",
   "metadata": {
    "id": "z0lIG25RxN3p"
   },
   "source": [
    "## Ваши вопросы"
   ]
  },
  {
   "cell_type": "markdown",
   "metadata": {
    "id": "9tSNjtzKxN3x"
   },
   "source": [
    "## Ваши вопросы"
   ]
  },
  {
   "cell_type": "markdown",
   "metadata": {
    "id": "ZWZHkthZksSD"
   },
   "source": [
    "## Итоги занятия"
   ]
  },
  {
   "cell_type": "markdown",
   "metadata": {
    "id": "NaXE3eopksSD",
    "tags": []
   },
   "source": [
    "## 3. Асинхронность\n"
   ]
  },
  {
   "cell_type": "code",
   "execution_count": 11,
   "metadata": {},
   "outputs": [],
   "source": [
    "def plus_one_gen(number: int) -> int:\n",
    "    numbers = [1, 2, 3, 5]\n",
    "    for i in numbers:\n",
    "        yield i + number"
   ]
  },
  {
   "cell_type": "code",
   "execution_count": 12,
   "metadata": {},
   "outputs": [
    {
     "name": "stdout",
     "output_type": "stream",
     "text": [
      "2\n",
      "3\n",
      "4\n",
      "6\n"
     ]
    }
   ],
   "source": [
    "g = plus_one_gen(1)\n",
    "for i in g:\n",
    "    print(i)"
   ]
  },
  {
   "cell_type": "code",
   "execution_count": 13,
   "metadata": {},
   "outputs": [
    {
     "name": "stdout",
     "output_type": "stream",
     "text": [
      "2\n",
      "3\n",
      "4\n",
      "6\n"
     ]
    },
    {
     "ename": "StopIteration",
     "evalue": "",
     "output_type": "error",
     "traceback": [
      "\u001b[0;31m---------------------------------------------------------------------------\u001b[0m",
      "\u001b[0;31mStopIteration\u001b[0m                             Traceback (most recent call last)",
      "Cell \u001b[0;32mIn[13], line 6\u001b[0m\n\u001b[1;32m      4\u001b[0m \u001b[38;5;28mprint\u001b[39m(\u001b[38;5;28mnext\u001b[39m(g))\n\u001b[1;32m      5\u001b[0m \u001b[38;5;28mprint\u001b[39m(\u001b[38;5;28mnext\u001b[39m(g))\n\u001b[0;32m----> 6\u001b[0m \u001b[38;5;28mprint\u001b[39m(\u001b[38;5;28mnext\u001b[39m(g))\n",
      "\u001b[0;31mStopIteration\u001b[0m: "
     ]
    }
   ],
   "source": [
    "g = plus_one_gen(1)\n",
    "print(next(g))\n",
    "print(next(g))\n",
    "print(next(g))\n",
    "print(next(g))\n",
    "print(next(g))"
   ]
  },
  {
   "cell_type": "markdown",
   "metadata": {
    "id": "R9UkNLL_ksSD"
   },
   "source": [
    "Расширили знания по практике использования параллельных технологий"
   ]
  },
  {
   "cell_type": "code",
   "execution_count": 15,
   "metadata": {},
   "outputs": [],
   "source": [
    "import time\n",
    "\n",
    "def timed(func):\n",
    "    async def inner(*args, **kwargs):\n",
    "        t0 = time.time()\n",
    "        await func(*args, **kwargs)\n",
    "        print(time.time() - t0)\n",
    "    return inner"
   ]
  },
  {
   "cell_type": "code",
   "execution_count": 17,
   "metadata": {},
   "outputs": [],
   "source": [
    "import asyncio\n",
    "\n",
    "\n",
    "async def waiter_1():\n",
    "    print(\"Hi to all from waiter 1\")\n",
    "    await asyncio.sleep(1)\n",
    "    print(\"Bye all from waiter 1\")\n",
    "\n",
    "async def waiter_2():\n",
    "    print(\"Hi to all from waiter 2\")\n",
    "    await asyncio.sleep(2)\n",
    "    print(\"Bye all from waiter 2\")\n",
    "\n",
    "async def waiter_3():\n",
    "    print(\"Hi to all from waiter 3\")\n",
    "    await asyncio.sleep(3)\n",
    "    print(\"Bye all from waiter 3\")\n",
    "\n",
    "@timed\n",
    "async def main():\n",
    "    asyncio.create_task(waiter_1()) # []\n",
    "    asyncio.create_task(waiter_2())\n",
    "    await asyncio.create_task(waiter_3())"
   ]
  },
  {
   "cell_type": "code",
   "execution_count": 18,
   "metadata": {},
   "outputs": [],
   "source": [
    "#asyncio.run(main)"
   ]
  },
  {
   "cell_type": "code",
   "execution_count": 19,
   "metadata": {},
   "outputs": [
    {
     "name": "stdout",
     "output_type": "stream",
     "text": [
      "Hi to all from waiter 1\n",
      "Hi to all from waiter 2\n",
      "Hi to all from waiter 3\n",
      "Bye all from waiter 1\n",
      "Bye all from waiter 2\n",
      "Bye all from waiter 3\n",
      "3.0019381046295166\n"
     ]
    }
   ],
   "source": [
    "\n",
    "await main()"
   ]
  },
  {
   "cell_type": "code",
   "execution_count": 21,
   "metadata": {},
   "outputs": [],
   "source": [
    "@timed\n",
    "async def main():\n",
    "    await asyncio.create_task(waiter_1()) # [task]\n",
    "    await asyncio.create_task(waiter_2()) # [task]\n",
    "    await asyncio.create_task(waiter_3()) # [task]\n"
   ]
  },
  {
   "cell_type": "code",
   "execution_count": 22,
   "metadata": {},
   "outputs": [
    {
     "name": "stdout",
     "output_type": "stream",
     "text": [
      "Hi to all from waiter 1\n",
      "Bye all from waiter 1\n",
      "Hi to all from waiter 2\n",
      "Bye all from waiter 2\n",
      "Hi to all from waiter 3\n",
      "Bye all from waiter 3\n",
      "6.005086898803711\n"
     ]
    }
   ],
   "source": [
    "await main()"
   ]
  },
  {
   "cell_type": "code",
   "execution_count": 23,
   "metadata": {},
   "outputs": [],
   "source": [
    "import asyncio\n",
    "\n",
    "\n",
    "async def waiter_1():\n",
    "    print(\"Hi to all from waiter 1\")\n",
    "    await asyncio.sleep(2.1)\n",
    "    print(\"Bye all from waiter 1\")\n",
    "\n",
    "async def waiter_2():\n",
    "    await asyncio.sleep(1)\n",
    "    print(\"Hi to all from waiter 2\")\n",
    "    await asyncio.sleep(2)\n",
    "    print(\"Bye all from waiter 2\")\n",
    "\n",
    "async def waiter_3():\n",
    "    await asyncio.sleep(2)\n",
    "    print(\"Hi to all from waiter 3\")\n",
    "    await asyncio.sleep(2)\n",
    "    print(\"Bye all from waiter 3\")\n",
    "\n",
    "@timed\n",
    "async def main():\n",
    "    asyncio.create_task(waiter_1())\n",
    "    asyncio.create_task(waiter_2())\n",
    "    await asyncio.create_task(waiter_3()) #"
   ]
  },
  {
   "cell_type": "code",
   "execution_count": 24,
   "metadata": {},
   "outputs": [
    {
     "name": "stdout",
     "output_type": "stream",
     "text": [
      "Hi to all from waiter 1\n",
      "Hi to all from waiter 2\n",
      "Hi to all from waiter 3\n",
      "Bye all from waiter 1\n",
      "Bye all from waiter 2\n",
      "Bye all from waiter 3\n",
      "4.003917217254639\n"
     ]
    }
   ],
   "source": [
    "await main()"
   ]
  },
  {
   "cell_type": "code",
   "execution_count": 25,
   "metadata": {},
   "outputs": [],
   "source": [
    "import asyncio\n",
    "import time\n",
    "\n",
    "async def waiter_1():\n",
    "    print(\"Hi to all from waiter 1\")\n",
    "    await asyncio.sleep(2.1)\n",
    "    print(\"Bye all from waiter 1\")\n",
    "\n",
    "async def waiter_2():\n",
    "    print(\"Hi to all from waiter 2\")\n",
    "    time.sleep(5)\n",
    "    print(\"Bye all from waiter 2\")\n",
    "\n",
    "async def waiter_3():\n",
    "    print(\"Hi to all from waiter 3\")\n",
    "    await asyncio.sleep(2)\n",
    "    print(\"Bye all from waiter 3\")\n",
    "\n",
    "@timed\n",
    "async def main():\n",
    "    asyncio.create_task(waiter_1())\n",
    "    asyncio.create_task(waiter_2())\n",
    "    await asyncio.create_task(waiter_3())"
   ]
  },
  {
   "cell_type": "code",
   "execution_count": 26,
   "metadata": {},
   "outputs": [
    {
     "name": "stdout",
     "output_type": "stream",
     "text": [
      "Hi to all from waiter 1\n",
      "Hi to all from waiter 2\n",
      "Bye all from waiter 2\n",
      "Hi to all from waiter 3\n",
      "Bye all from waiter 1\n",
      "Bye all from waiter 3\n",
      "7.006998062133789\n"
     ]
    }
   ],
   "source": [
    "await main()"
   ]
  },
  {
   "cell_type": "code",
   "execution_count": 27,
   "metadata": {},
   "outputs": [],
   "source": [
    "import asyncio\n",
    "\n",
    "\n",
    "async def waiter_1():\n",
    "    print(\"Hi to all from waiter 1\")\n",
    "    await asyncio.sleep(2.1)\n",
    "    print(\"Bye all from waiter 1\")\n",
    "\n",
    "async def waiter_2():\n",
    "    await asyncio.sleep(1)\n",
    "    print(\"Hi to all from waiter 2\")\n",
    "    await asyncio.sleep(2)\n",
    "    print(\"Bye all from waiter 2\")\n",
    "\n",
    "async def waiter_3():\n",
    "    await asyncio.sleep(2)\n",
    "    print(\"Hi to all from waiter 3\")\n",
    "    await asyncio.sleep(2)\n",
    "    print(\"Bye all from waiter 3\")\n",
    "\n",
    "@timed\n",
    "async def main():\n",
    "    await asyncio.gather(waiter_1(), waiter_2(), waiter_3())"
   ]
  },
  {
   "cell_type": "code",
   "execution_count": 28,
   "metadata": {},
   "outputs": [
    {
     "name": "stdout",
     "output_type": "stream",
     "text": [
      "Hi to all from waiter 1\n",
      "Hi to all from waiter 2\n",
      "Hi to all from waiter 3\n",
      "Bye all from waiter 1\n",
      "Bye all from waiter 2\n",
      "Bye all from waiter 3\n",
      "4.003663063049316\n"
     ]
    }
   ],
   "source": [
    "await main()"
   ]
  },
  {
   "cell_type": "code",
   "execution_count": null,
   "metadata": {},
   "outputs": [],
   "source": []
  },
  {
   "cell_type": "markdown",
   "metadata": {},
   "source": [
    "При использовании asyncio необходимо максимально сократить количество блокирующих синхронных вызовов.\n",
    "Также необходимо использовать библиотеки, поддерживающие asyncio. Например requests - синхронная бибилиотека, \n",
    "под капотом использует синхронный блокирующий вызов. Вместо requests можно воспользоваться aiohttp"
   ]
  },
  {
   "cell_type": "markdown",
   "metadata": {
    "id": "iHa09MJ9ksSD",
    "tags": []
   },
   "source": [
    "## Ваши вопросы"
   ]
  }
 ],
 "metadata": {
  "colab": {
   "provenance": []
  },
  "kernelspec": {
   "display_name": "netologia_kernel",
   "language": "python",
   "name": "netologia_kernel"
  },
  "language_info": {
   "codemirror_mode": {
    "name": "ipython",
    "version": 3
   },
   "file_extension": ".py",
   "mimetype": "text/x-python",
   "name": "python",
   "nbconvert_exporter": "python",
   "pygments_lexer": "ipython3",
   "version": "3.11.9"
  }
 },
 "nbformat": 4,
 "nbformat_minor": 4
}

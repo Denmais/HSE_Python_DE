{
 "cells": [
  {
   "cell_type": "markdown",
   "metadata": {
    "id": "inA2Q8YwksRn"
   },
   "source": [
    "# Вебинар 7. Лучшие практики по работе с параллельными вычислениями в Python"
   ]
  },
  {
   "cell_type": "code",
   "execution_count": 2,
   "metadata": {
    "id": "3sTVemhbZ3vM"
   },
   "outputs": [
    {
     "name": "stdout",
     "output_type": "stream",
     "text": [
      "zsh:1: unknown file attribute: i\n"
     ]
    }
   ],
   "source": [
    "![Image]('/Users/dmitrijklabukov/Desktop/concurency.png')"
   ]
  },
  {
   "cell_type": "markdown",
   "metadata": {
    "id": "pbcH57-MksRr",
    "tags": []
   },
   "source": [
    "## Проверка связи"
   ]
  },
  {
   "cell_type": "markdown",
   "metadata": {
    "id": "xINEc2zFksRr"
   },
   "source": [
    "**Если у вас нет звука:**\n",
    "- убедитесь, что на вашем устройстве\n",
    "и в колонках включён звук\n",
    "- обновите страницу или закройте её и заново присоединитесь к вебинару\n",
    "- откройте вебинар в другом браузере\n",
    "- перезагрузите ваше устройство\n",
    "и  попытайтесь войти снова\n"
   ]
  },
  {
   "cell_type": "markdown",
   "metadata": {
    "id": "aq_cAJwVksRs"
   },
   "source": [
    "**Поставьте в чат:**<br>\n",
    "\\+ — если меня видно и слышно<br>\n",
    "– — если нет"
   ]
  },
  {
   "cell_type": "markdown",
   "metadata": {
    "id": "lGmyF92MksRs"
   },
   "source": [
    "## О спикере"
   ]
  },
  {
   "cell_type": "markdown",
   "metadata": {
    "id": "IQ5tPuttksRt",
    "tags": []
   },
   "source": [
    "**Дмитрий Клабуков**\n",
    "- Старший инженер данных в Альфа-банке\n",
    "- Опыт разработки с 2018 года"
   ]
  },
  {
   "cell_type": "markdown",
   "metadata": {
    "id": "jeTexD3tksRt"
   },
   "source": [
    "## Правила участия"
   ]
  },
  {
   "cell_type": "markdown",
   "metadata": {
    "id": "2kvQyqS9ksRt",
    "tags": []
   },
   "source": [
    "- Приготовьте блокнот и ручку, чтобы записывать важные мысли и идеи\n",
    "- Продолжительность вебинара — 1 час 30 минут\n",
    "- Вы можете писать вопросы в чате или задавать их через микрофон\n",
    "- Запись вебинара будет доступна в личном кабинете"
   ]
  },
  {
   "cell_type": "code",
   "execution_count": null,
   "metadata": {
    "id": "iNHztg8WxN3k"
   },
   "outputs": [],
   "source": []
  },
  {
   "cell_type": "markdown",
   "metadata": {},
   "source": []
  },
  {
   "cell_type": "markdown",
   "metadata": {
    "id": "XS64DD3RksRu"
   },
   "source": [
    "- Отработали на практике работу с многопрограммным комплексом"
   ]
  },
  {
   "cell_type": "markdown",
   "metadata": {
    "id": "JFQrFju9ksRu"
   },
   "source": [
    "## Цель занятия"
   ]
  },
  {
   "cell_type": "markdown",
   "metadata": {
    "id": "p8Pbfc0eksRv",
    "tags": []
   },
   "source": [
    "Расширить знания по практике использования параллельных технологий"
   ]
  },
  {
   "cell_type": "markdown",
   "metadata": {
    "id": "y0L-W3AYksRv"
   },
   "source": [
    "## План занятия"
   ]
  },
  {
   "cell_type": "markdown",
   "metadata": {
    "id": "nUBc6G7rksRv"
   },
   "source": [
    "\n",
    "[1. Последовательное выполнение](#1.-ПОСЛЕДОВАТЕЛЬНОЕ-ВЫПОЛНЕНИЕ)<br>\n",
    "[2. Потоки](#2.-ПОТОКИ)<br>\n",
    "[3. Процессы](#3.-ПРОЦЕССЫ)<br>\n"
   ]
  },
  {
   "cell_type": "markdown",
   "metadata": {},
   "source": [
    "## Задачи, ограниченные вводом - выводом (I/O bound)  и задачи, ограниченные быстродействием процессора( CPU Bound задачи)\n",
    "\n",
    "К задачам, ограниченным вводом-выводом относятся те задачи, в которых в которых большая часть времени тратится на ожидание ответа от сети или другого устройства.\n",
    "\n",
    "К задачам, ограниченным быстродействием процессора или счетным задачам относят те задачи, в которых проходят вычисления или обработка данных."
   ]
  },
  {
   "cell_type": "markdown",
   "metadata": {},
   "source": [
    "<img src='/Users/dmitrijklabukov/Desktop/concurency.png'>"
   ]
  },
  {
   "cell_type": "markdown",
   "metadata": {},
   "source": [
    "## Конкурентность и параллелизм\n",
    "\n",
    "Конкурентность - свойство системы по которому, выполнение задач, выполняющихся в одно и то же время, может переключаться от одной к другой в зависимости от их доступности к выполнению. Конкурентность возможна, когда несколько задач может работать не-\n",
    "зависимо друг от друга.\n",
    "\n",
    "Параллелизм - возможность выполнять задачи одновременно."
   ]
  },
  {
   "cell_type": "markdown",
   "metadata": {},
   "source": [
    "Конкурентность бывает вытесняющая или невытесняющая (кооперативная)\n",
    "\n",
    "Вытесняющая конкурентность  - та, в которая система сама решает, какой задаче отдать управление засчет квантования времени\n",
    "\n",
    "Кооперативная - та, в которой явно указано в коде в какой момент можно отдать управление другим задачам\n"
   ]
  },
  {
   "cell_type": "markdown",
   "metadata": {},
   "source": [
    "## Процессы, потоки, многопроцессность, многопоточность\n",
    "\n",
    "Процессом называется работающее приложение, которому выделена\n",
    "область памяти, недоступная другим приложениям. \n",
    "\n",
    "Поток - это базовая единица ОС, которой выделяется процессорное время. Поток живет внутри процесса и использует выделенную под процесс память.\n"
   ]
  },
  {
   "cell_type": "code",
   "execution_count": 8,
   "metadata": {},
   "outputs": [
    {
     "name": "stdout",
     "output_type": "stream",
     "text": [
      "Исполняется Python-процесс с идентификатором: 55683\n",
      "В данный момент Python исполняет 7 поток(ов)\n",
      "Имя текущего потока MainThread\n"
     ]
    }
   ],
   "source": [
    "import os\n",
    "import threading\n",
    "print(f'Исполняется Python-процесс с идентификатором: {os.getpid()}')\n",
    "total_threads = threading.active_count()\n",
    "thread_name = threading.current_thread().name\n",
    "\n",
    "print(f'В данный момент Python исполняет {total_threads} поток(ов)')\n",
    "print(f'Имя текущего потока {thread_name}')"
   ]
  },
  {
   "cell_type": "markdown",
   "metadata": {
    "id": "CxE3zVrXksRv"
   },
   "source": [
    "## 1. Последовательное выполнение"
   ]
  },
  {
   "cell_type": "code",
   "execution_count": null,
   "metadata": {
    "id": "AtnIcxAKxN3n"
   },
   "outputs": [],
   "source": [
    "# Последовательное выполнение\n",
    "\n",
    "import threading\n",
    "import time\n",
    "\n",
    "var_i = None\n",
    "def worker():\n",
    "    global var_i\n",
    "    while True:\n",
    "        if var_i is not None:\n",
    "            print(\"Поток завершается\")\n",
    "            break # Завершение потока\n",
    "###################################\n",
    "t = worker()\n",
    "t2 = worker()\n"
   ]
  },
  {
   "cell_type": "markdown",
   "metadata": {
    "id": "z0lIG25RxN3p"
   },
   "source": [
    "## Ваши вопросы"
   ]
  },
  {
   "cell_type": "markdown",
   "metadata": {
    "id": "Od9eAJCWxN3p"
   },
   "source": [
    "## 2. Потоки"
   ]
  },
  {
   "cell_type": "code",
   "execution_count": null,
   "metadata": {
    "id": "GtxJ0gPYxN3q"
   },
   "outputs": [],
   "source": [
    "# Инициализация потоков\n",
    "\n",
    "import threading\n",
    "import time\n",
    "\n",
    "var_i = None\n",
    "def worker():\n",
    "    global var_i\n",
    "    while True:\n",
    "        if var_i is not None:\n",
    "            print(\"Поток завершается\")\n",
    "            break # Завершение потока\n",
    "###################################\n",
    "t = threading.Thread(target=worker)\n",
    "t.start()\n",
    "t2 = threading.Thread(target=worker)\n",
    "t2.start()\n",
    "time.sleep(2)\n",
    "var_i = 1\n"
   ]
  },
  {
   "cell_type": "code",
   "execution_count": null,
   "metadata": {
    "id": "yIhwb1zBxN3q"
   },
   "outputs": [],
   "source": [
    "import threading\n",
    "import time\n",
    "\n",
    "var_i = None\n",
    "def worker():\n",
    "    global var_i\n",
    "    while True:\n",
    "        if var_i is not None:\n",
    "            print(\"Поток завершается\")\n",
    "            break # Завершение потока\n",
    "###################################\n",
    "t = threading.Thread(target=worker)\n",
    "t.start()\n",
    "t2 = threading.Thread(target=worker)\n",
    "t2.start()\n",
    "t.join()\n",
    "time.sleep(2)\n",
    "var_i = 1\n"
   ]
  },
  {
   "cell_type": "code",
   "execution_count": null,
   "metadata": {
    "id": "knBYVxanxN3r"
   },
   "outputs": [],
   "source": [
    "import threading\n",
    "import time\n",
    "\n",
    "var_i = None\n",
    "def worker(in_var=1234):\n",
    "    global var_i\n",
    "    while True:\n",
    "        if var_i is not None:\n",
    "            print(\"Поток завершается\")\n",
    "            break # Завершение потока\n",
    "###################################\n",
    "t = threading.Thread(target=worker, args=[], kwargs={\"in_var\":123})\n",
    "t.start()\n",
    "t2 = threading.Thread(target=worker)\n",
    "t2.start()\n",
    "time.sleep(2)\n",
    "var_i = 1"
   ]
  },
  {
   "cell_type": "code",
   "execution_count": null,
   "metadata": {
    "id": "aBpdtWrUxN3r",
    "outputId": "824a0225-ed5f-44a2-a825-5d8ac5433772",
    "tags": []
   },
   "outputs": [
    {
     "name": "stdout",
     "output_type": "stream",
     "text": [
      "Поток завершается\n",
      "Поток завершается\n"
     ]
    }
   ],
   "source": [
    "# Демонстрация mutable\n",
    "import threading\n",
    "import time\n",
    "\n",
    "def worker(in_var):\n",
    "    while True:\n",
    "        if in_var[\"in_var\"] is not None:\n",
    "            print(\"Поток завершается\")\n",
    "            break # Завершение потока\n",
    "###################################\n",
    "in_var = {\"in_var\":None}\n",
    "t = threading.Thread(target=worker, args=[], kwargs={\"in_var\":in_var})\n",
    "t.start()\n",
    "t2 = threading.Thread(target=worker, args=[in_var], kwargs={})\n",
    "t2.start()\n",
    "time.sleep(2)\n",
    "in_var[\"in_var\"]=123"
   ]
  },
  {
   "cell_type": "code",
   "execution_count": null,
   "metadata": {
    "id": "PFgmxDNexN3t"
   },
   "outputs": [],
   "source": [
    "# Демонстрация IMMUTABLE\n",
    "\n",
    "import threading\n",
    "import time\n",
    "\n",
    "def worker(in_var):\n",
    "    while True:\n",
    "        if in_var is not None:\n",
    "            print(\"Поток завершается\")\n",
    "            break # Завершение потока\n",
    "###################################\n",
    "in_var = None\n",
    "t = threading.Thread(target=worker, args=[], kwargs={\"in_var\":in_var})\n",
    "t.start()\n",
    "t2 = threading.Thread(target=worker, args=[in_var], kwargs={})\n",
    "t2.start()\n",
    "time.sleep(2)\n",
    "in_var=123"
   ]
  },
  {
   "cell_type": "code",
   "execution_count": null,
   "metadata": {
    "id": "K8Kx2ScExN3t"
   },
   "outputs": [],
   "source": [
    "# Последовательность выполнения"
   ]
  },
  {
   "cell_type": "code",
   "execution_count": null,
   "metadata": {
    "id": "UGvtuvgVxN3u",
    "outputId": "6c8f99f1-26a6-412b-a0fe-f161a2c314ed",
    "tags": []
   },
   "outputs": [
    {
     "name": "stdout",
     "output_type": "stream",
     "text": [
      "2023-10-31 19:12:04.901013: ПОТОК 10144 НАЧАЛО\n",
      "2023-10-31 19:12:04.936893: ПОТОК 9308 НАЧАЛО\n",
      "2023-10-31 19:12:05.790212: ПОТОК 10144 КОНЕЦ\n",
      "2023-10-31 19:12:05.821413: ПОТОК 9308 КОНЕЦ\n",
      "2023-10-31 19:12:06.801946: ПОТОК 10144 НАЧАЛО\n",
      "2023-10-31 19:12:06.847864: ПОТОК 9308 НАЧАЛО\n",
      "2023-10-31 19:12:07.668863: ПОТОК 10144 КОНЕЦ\n",
      "2023-10-31 19:12:07.684807: ПОТОК 9308 КОНЕЦ\n",
      "2023-10-31 19:12:08.676511: ПОТОК 10144 НАЧАЛО\n",
      "2023-10-31 19:12:08.691901: ПОТОК 9308 НАЧАЛО\n",
      "2023-10-31 19:12:09.512815: ПОТОК 9308 КОНЕЦ\n",
      "2023-10-31 19:12:09.544550: ПОТОК 10144 КОНЕЦ\n",
      "2023-10-31 19:12:10.526418: ПОТОК 9308 НАЧАЛО\n",
      "2023-10-31 19:12:10.571995: ПОТОК 10144 НАЧАЛО\n",
      "2023-10-31 19:12:11.336205: ПОТОК 10144 КОНЕЦ\n",
      "2023-10-31 19:12:11.383390: ПОТОК 9308 КОНЕЦ\n",
      "2023-10-31 19:12:12.344410: ПОТОК 10144 НАЧАЛО\n",
      "2023-10-31 19:12:12.406798: ПОТОК 9308 НАЧАЛО\n",
      "2023-10-31 19:12:13.065696: ПОТОК 10144 КОНЕЦ\n",
      "2023-10-31 19:12:13.186348: ПОТОК 9308 КОНЕЦ\n",
      "2023-10-31 19:12:14.078733: ПОТОК 10144 НАЧАЛО\n",
      "2023-10-31 19:12:14.206273: ПОТОК 9308 НАЧАЛО\n",
      "2023-10-31 19:12:14.753312: ПОТОК 10144 КОНЕЦ\n",
      "2023-10-31 19:12:14.919106: ПОТОК 9308 КОНЕЦ\n",
      "2023-10-31 19:12:15.759788: ПОТОК 10144 НАЧАЛО\n",
      "2023-10-31 19:12:15.936294: ПОТОК 9308 НАЧАЛО\n",
      "2023-10-31 19:12:16.487947: ПОТОК 10144 КОНЕЦ\n",
      "2023-10-31 19:12:16.643422: ПОТОК 9308 КОНЕЦ\n",
      "2023-10-31 19:12:17.498044: ПОТОК 10144 НАЧАЛО\n",
      "2023-10-31 19:12:17.672024: ПОТОК 9308 НАЧАЛО\n",
      "2023-10-31 19:12:18.151508: ПОТОК 10144 КОНЕЦ\n",
      "2023-10-31 19:12:18.323629: ПОТОК 9308 КОНЕЦ\n",
      "2023-10-31 19:12:19.158720: ПОТОК 10144 НАЧАЛО\n",
      "2023-10-31 19:12:19.347251: ПОТОК 9308 НАЧАЛО\n",
      "2023-10-31 19:12:19.816364: ПОТОК 10144 КОНЕЦ\n",
      "2023-10-31 19:12:20.036398: ПОТОК 9308 КОНЕЦ\n",
      "2023-10-31 19:12:20.835039: ПОТОК 10144 НАЧАЛО\n",
      "2023-10-31 19:12:21.055158: ПОТОК 9308 НАЧАЛО\n",
      "2023-10-31 19:12:21.477790: ПОТОК 10144 КОНЕЦ\n",
      "2023-10-31 19:12:21.709601: ПОТОК 9308 КОНЕЦ\n"
     ]
    }
   ],
   "source": [
    "import threading\n",
    "import math\n",
    "import time\n",
    "import datetime\n",
    "\n",
    "\n",
    "\n",
    "def worker():\n",
    "    for a in range(10):\n",
    "        print(f\"{datetime.datetime.now()}: ПОТОК {threading.get_ident()} НАЧАЛО\")\n",
    "        t=0\n",
    "        for item in range(10000000):\n",
    "            t = t+1\n",
    "        time.sleep(0.2)\n",
    "        print(f\"{datetime.datetime.now()}: ПОТОК {threading.get_ident()} КОНЕЦ\")\n",
    "        time.sleep(1)\n",
    "\n",
    "t = threading.Thread(target=worker)\n",
    "t.start()\n",
    "t2 = threading.Thread(target=worker)\n",
    "t2.start()"
   ]
  },
  {
   "cell_type": "code",
   "execution_count": null,
   "metadata": {
    "id": "eP2AnejfxN3u",
    "tags": []
   },
   "outputs": [],
   "source": [
    "import threading\n",
    "import math\n",
    "import time\n",
    "import datetime\n",
    "\n",
    "result_list = []\n",
    "\n",
    "def worker():\n",
    "    global result_list\n",
    "    for a in range(10):\n",
    "        result_list.append(f\"{datetime.datetime.now()}: ПОТОК {threading.get_ident()} НАЧАЛО\")\n",
    "        #print()\n",
    "        t=0\n",
    "        for item in range(1000000):\n",
    "            t = t+1\n",
    "        #for i in range(1000000):\n",
    "        #    r=math.factorial(150)\n",
    "        #print(f\"{datetime.datetime.now()}: ПОТОК {threading.get_ident()} КОНЕЦ\")\n",
    "        result_list.append(f\"{datetime.datetime.now()}: ПОТОК {threading.get_ident()} КОНЕЦ\")\n",
    "        time.sleep(1)\n",
    "\n",
    "t = threading.Thread(target=worker)\n",
    "t.start()\n",
    "t2 = threading.Thread(target=worker)\n",
    "t2.start()\n",
    "t.join()\n",
    "t2.join()\n"
   ]
  },
  {
   "cell_type": "code",
   "execution_count": null,
   "metadata": {
    "id": "r_D3ZlNUxN3v",
    "tags": []
   },
   "outputs": [],
   "source": [
    "for item in range(10000000):\n",
    "    t = t+1"
   ]
  },
  {
   "cell_type": "code",
   "execution_count": null,
   "metadata": {
    "id": "HoIeUZtBxN3v",
    "outputId": "59ef6aa7-a0f7-4d31-8c0b-d8d498e594fc",
    "tags": []
   },
   "outputs": [
    {
     "data": {
      "text/plain": [
       "['2023-10-31 19:09:07.346411: ПОТОК 4124 НАЧАЛО',\n",
       " '2023-10-31 19:09:07.374362: ПОТОК 17168 НАЧАЛО',\n",
       " '2023-10-31 19:09:07.392547: ПОТОК 4124 КОНЕЦ',\n",
       " '2023-10-31 19:09:07.414477: ПОТОК 17168 КОНЕЦ',\n",
       " '2023-10-31 19:09:08.404372: ПОТОК 4124 НАЧАЛО',\n",
       " '2023-10-31 19:09:08.436340: ПОТОК 17168 НАЧАЛО',\n",
       " '2023-10-31 19:09:08.468241: ПОТОК 4124 КОНЕЦ',\n",
       " '2023-10-31 19:09:08.484104: ПОТОК 17168 КОНЕЦ',\n",
       " '2023-10-31 19:09:09.489176: ПОТОК 17168 НАЧАЛО',\n",
       " '2023-10-31 19:09:09.505121: ПОТОК 4124 НАЧАЛО',\n",
       " '2023-10-31 19:09:09.555041: ПОТОК 17168 КОНЕЦ',\n",
       " '2023-10-31 19:09:09.556038: ПОТОК 4124 КОНЕЦ',\n",
       " '2023-10-31 19:09:10.561866: ПОТОК 4124 НАЧАЛО',\n",
       " '2023-10-31 19:09:10.577717: ПОТОК 17168 НАЧАЛО',\n",
       " '2023-10-31 19:09:10.626373: ПОТОК 4124 КОНЕЦ',\n",
       " '2023-10-31 19:09:10.627370: ПОТОК 17168 КОНЕЦ',\n",
       " '2023-10-31 19:09:11.629889: ПОТОК 17168 НАЧАЛО',\n",
       " '2023-10-31 19:09:11.646036: ПОТОК 4124 НАЧАЛО',\n",
       " '2023-10-31 19:09:11.693348: ПОТОК 17168 КОНЕЦ',\n",
       " '2023-10-31 19:09:11.693348: ПОТОК 4124 КОНЕЦ',\n",
       " '2023-10-31 19:09:12.710824: ПОТОК 4124 НАЧАЛО',\n",
       " '2023-10-31 19:09:12.726345: ПОТОК 17168 НАЧАЛО',\n",
       " '2023-10-31 19:09:12.756934: ПОТОК 4124 КОНЕЦ',\n",
       " '2023-10-31 19:09:12.769903: ПОТОК 17168 КОНЕЦ',\n",
       " '2023-10-31 19:09:13.769022: ПОТОК 4124 НАЧАЛО',\n",
       " '2023-10-31 19:09:13.798053: ПОТОК 4124 КОНЕЦ',\n",
       " '2023-10-31 19:09:13.798053: ПОТОК 17168 НАЧАЛО',\n",
       " '2023-10-31 19:09:13.828276: ПОТОК 17168 КОНЕЦ',\n",
       " '2023-10-31 19:09:14.806952: ПОТОК 4124 НАЧАЛО',\n",
       " '2023-10-31 19:09:14.840054: ПОТОК 4124 КОНЕЦ',\n",
       " '2023-10-31 19:09:14.840054: ПОТОК 17168 НАЧАЛО',\n",
       " '2023-10-31 19:09:14.854011: ПОТОК 17168 КОНЕЦ',\n",
       " '2023-10-31 19:09:15.851639: ПОТОК 4124 НАЧАЛО',\n",
       " '2023-10-31 19:09:15.884112: ПОТОК 4124 КОНЕЦ',\n",
       " '2023-10-31 19:09:15.884112: ПОТОК 17168 НАЧАЛО',\n",
       " '2023-10-31 19:09:15.913332: ПОТОК 17168 КОНЕЦ',\n",
       " '2023-10-31 19:09:16.896067: ПОТОК 4124 НАЧАЛО',\n",
       " '2023-10-31 19:09:16.927662: ПОТОК 4124 КОНЕЦ',\n",
       " '2023-10-31 19:09:16.927662: ПОТОК 17168 НАЧАЛО',\n",
       " '2023-10-31 19:09:16.959787: ПОТОК 17168 КОНЕЦ']"
      ]
     },
     "execution_count": 20,
     "metadata": {},
     "output_type": "execute_result"
    }
   ],
   "source": [
    "result_list"
   ]
  },
  {
   "cell_type": "markdown",
   "metadata": {
    "id": "1wOUyUfCxN3w"
   },
   "source": [
    "## Ваши вопросы"
   ]
  },
  {
   "cell_type": "markdown",
   "metadata": {
    "id": "OFHyuLcaxN3w",
    "tags": []
   },
   "source": [
    "## 3. Процессы"
   ]
  },
  {
   "cell_type": "code",
   "execution_count": null,
   "metadata": {
    "id": "nCMbaKnpxN3w",
    "tags": []
   },
   "outputs": [],
   "source": [
    "# Запускать в отдельном PY-файле"
   ]
  },
  {
   "cell_type": "code",
   "execution_count": null,
   "metadata": {
    "id": "Zr2UzQzGxN3x"
   },
   "outputs": [],
   "source": [
    "from multiprocessing import Process, Pipe\n",
    "import os\n",
    "pid = os.getpid()\n",
    "def child(conn):\n",
    "    conn.send(f\"Hello from child process! PID: {pid}\")\n",
    "    conn.close()\n",
    "\n",
    "if __name__ == '__main__':\n",
    "    parent_conn, child_conn = Pipe()\n",
    "    p = Process(target=child, args=(child_conn,))\n",
    "    p.start()\n",
    "    print(f\"Hello from parent process! PID: {pid}\")\n",
    "    print(parent_conn.recv())\n",
    "    p.join()\n"
   ]
  },
  {
   "cell_type": "markdown",
   "metadata": {
    "id": "9tSNjtzKxN3x"
   },
   "source": [
    "## Ваши вопросы"
   ]
  },
  {
   "cell_type": "markdown",
   "metadata": {
    "id": "ZWZHkthZksSD"
   },
   "source": [
    "## Итоги занятия"
   ]
  },
  {
   "cell_type": "code",
   "execution_count": null,
   "metadata": {
    "id": "NaXE3eopksSD",
    "tags": []
   },
   "outputs": [],
   "source": [
    "#85+"
   ]
  },
  {
   "cell_type": "markdown",
   "metadata": {
    "id": "R9UkNLL_ksSD"
   },
   "source": [
    "Расширили знания по практике использования параллельных технологий"
   ]
  },
  {
   "cell_type": "markdown",
   "metadata": {
    "id": "iHa09MJ9ksSD",
    "tags": []
   },
   "source": [
    "## Ваши вопросы"
   ]
  }
 ],
 "metadata": {
  "colab": {
   "provenance": []
  },
  "kernelspec": {
   "display_name": "netologia_kernel",
   "language": "python",
   "name": "netologia_kernel"
  },
  "language_info": {
   "codemirror_mode": {
    "name": "ipython",
    "version": 3
   },
   "file_extension": ".py",
   "mimetype": "text/x-python",
   "name": "python",
   "nbconvert_exporter": "python",
   "pygments_lexer": "ipython3",
   "version": "3.11.9"
  }
 },
 "nbformat": 4,
 "nbformat_minor": 4
}

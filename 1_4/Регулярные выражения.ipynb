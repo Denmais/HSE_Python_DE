{
 "cells": [
  {
   "cell_type": "code",
   "execution_count": 53,
   "id": "e9d61519",
   "metadata": {},
   "outputs": [
    {
     "name": "stdout",
     "output_type": "stream",
     "text": [
      "Б222ВВ22\n",
      "NO\n"
     ]
    }
   ],
   "source": [
    "import re\n",
    "\n",
    "\n",
    "def validator(string):\n",
    "    a = re.fullmatch(r'[А, В, Е, К, М, Н, О, Р, С, Т, У, Х]\\d{3}[А, В, Е, К, М, Н, О, Р, С, Т, У, Х]{2}\\d{2,3}', string)\n",
    "    print('YES' if a else 'NO')\n",
    "\n",
    "string = input()  #только кириллица!\n",
    "validator(string)"
   ]
  },
  {
   "cell_type": "code",
   "execution_count": 65,
   "id": "ac3944f0",
   "metadata": {},
   "outputs": [
    {
     "name": "stdout",
     "output_type": "stream",
     "text": [
      "asdf asdf wererrg\n",
      "asdf wererrg\n"
     ]
    }
   ],
   "source": [
    "import re\n",
    "\n",
    "def func(text):\n",
    "    a = re.sub(r'\\b(\\w+)(?:\\W+\\1\\b)+', r'\\1', text)\n",
    "    print(a)\n",
    "\n",
    "text = input()\n",
    "func(text)"
   ]
  },
  {
   "cell_type": "code",
   "execution_count": null,
   "id": "8a076a1f",
   "metadata": {},
   "outputs": [],
   "source": []
  }
 ],
 "metadata": {
  "kernelspec": {
   "display_name": "Python 3 (ipykernel)",
   "language": "python",
   "name": "python3"
  },
  "language_info": {
   "codemirror_mode": {
    "name": "ipython",
    "version": 3
   },
   "file_extension": ".py",
   "mimetype": "text/x-python",
   "name": "python",
   "nbconvert_exporter": "python",
   "pygments_lexer": "ipython3",
   "version": "3.10.12"
  }
 },
 "nbformat": 4,
 "nbformat_minor": 5
}
